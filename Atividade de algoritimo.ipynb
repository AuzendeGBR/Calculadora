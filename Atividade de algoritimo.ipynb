{
 "cells": [
  {
   "cell_type": "code",
   "execution_count": 4,
   "metadata": {},
   "outputs": [
    {
     "name": "stdout",
     "output_type": "stream",
     "text": [
      "+=================+\n",
      "| MENU DE OPERAÇÕES\n",
      "| 1 - somar        \n",
      "| 2 - subtrair     \n",
      "| 3 - multiplicar  \n",
      "| 4 - dividir      \n",
      "| 0 - sair         \n",
      "+=================+\n",
      "O resultado da multiplicação é: 3200\n",
      "+=================+\n",
      "| MENU DE OPERAÇÕES\n",
      "| 1 - somar        \n",
      "| 2 - subtrair     \n",
      "| 3 - multiplicar  \n",
      "| 4 - dividir      \n",
      "| 0 - sair         \n",
      "+=================+\n"
     ]
    },
    {
     "ename": "ValueError",
     "evalue": "invalid literal for int() with base 10: ''",
     "output_type": "error",
     "traceback": [
      "\u001b[1;31m---------------------------------------------------------------------------\u001b[0m",
      "\u001b[1;31mValueError\u001b[0m                                Traceback (most recent call last)",
      "Cell \u001b[1;32mIn[4], line 25\u001b[0m\n\u001b[0;32m     22\u001b[0m \u001b[38;5;28mprint\u001b[39m(\u001b[38;5;124m\"\u001b[39m\u001b[38;5;124m| 0 - sair         \u001b[39m\u001b[38;5;124m\"\u001b[39m)\n\u001b[0;32m     23\u001b[0m \u001b[38;5;28mprint\u001b[39m(\u001b[38;5;124m\"\u001b[39m\u001b[38;5;124m+=================+\u001b[39m\u001b[38;5;124m\"\u001b[39m)\n\u001b[1;32m---> 25\u001b[0m op \u001b[38;5;241m=\u001b[39m \u001b[38;5;28;43mint\u001b[39;49m\u001b[43m(\u001b[49m\u001b[38;5;28;43minput\u001b[39;49m\u001b[43m(\u001b[49m\u001b[43m)\u001b[49m\u001b[43m)\u001b[49m\n\u001b[0;32m     26\u001b[0m \u001b[38;5;28;01mif\u001b[39;00m op \u001b[38;5;241m==\u001b[39m \u001b[38;5;241m0\u001b[39m:\n\u001b[0;32m     27\u001b[0m     \u001b[38;5;28;01mbreak\u001b[39;00m\n",
      "\u001b[1;31mValueError\u001b[0m: invalid literal for int() with base 10: ''"
     ]
    }
   ],
   "source": [
    "def soma(a, b):\n",
    "    return a + b\n",
    "\n",
    "def subtrai(a, b):\n",
    "    return a - b\n",
    "\n",
    "def multiplica(a, b):\n",
    "    return a * b\n",
    "\n",
    "def divide(a, b):\n",
    "    if b == 0:\n",
    "        return \"Erro: divisão por zero\"\n",
    "    return a / b\n",
    "\n",
    "while True:\n",
    "    print(\"+=================+\")\n",
    "    print(\"| MENU DE OPERAÇÕES\")\n",
    "    print(\"| 1 - somar        \")\n",
    "    print(\"| 2 - subtrair     \")\n",
    "    print(\"| 3 - multiplicar  \")\n",
    "    print(\"| 4 - dividir      \")\n",
    "    print(\"| 0 - sair         \")\n",
    "    print(\"+=================+\")\n",
    "\n",
    "    op = int(input())\n",
    "    if op == 0:\n",
    "        break\n",
    "\n",
    "    n1 = int(input(\"primeiro numero: \"))\n",
    "    n2 = int(input(\"segundo numero: \"))\n",
    "\n",
    "    if op == 1:\n",
    "        print(\"O resultado da soma é:\", soma(n1, n2))\n",
    "    elif op == 2:\n",
    "        print(\"O resultado da subtração é:\", subtrai(n1, n2))\n",
    "    elif op == 3:\n",
    "        print(\"O resultado da multiplicação é:\", multiplica(n1, n2))\n",
    "    elif op == 4:\n",
    "        print(\"O resultado da divisão é:\", divide(n1, n2))\n",
    "    elif op == 5:\n",
    "        break\n"
   ]
  }
 ],
 "metadata": {
  "kernelspec": {
   "display_name": "Python 3",
   "language": "python",
   "name": "python3"
  },
  "language_info": {
   "codemirror_mode": {
    "name": "ipython",
    "version": 3
   },
   "file_extension": ".py",
   "mimetype": "text/x-python",
   "name": "python",
   "nbconvert_exporter": "python",
   "pygments_lexer": "ipython3",
   "version": "3.12.4"
  }
 },
 "nbformat": 4,
 "nbformat_minor": 2
}
